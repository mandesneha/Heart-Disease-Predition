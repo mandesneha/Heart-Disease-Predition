{
 "cells": [
  {
   "cell_type": "code",
   "execution_count": 1,
   "id": "82d9798a",
   "metadata": {},
   "outputs": [
    {
     "name": "stdout",
     "output_type": "stream",
     "text": [
      "Accuracy: 0.8804347826086957\n",
      "Classification Report:\n",
      "              precision    recall  f1-score   support\n",
      "\n",
      "           0       0.85      0.87      0.86        77\n",
      "           1       0.90      0.89      0.90       107\n",
      "\n",
      "    accuracy                           0.88       184\n",
      "   macro avg       0.88      0.88      0.88       184\n",
      "weighted avg       0.88      0.88      0.88       184\n",
      "\n",
      "Confusion Matrix:\n",
      "[[67 10]\n",
      " [12 95]]\n"
     ]
    }
   ],
   "source": [
    "import pandas as pd\n",
    "from sklearn.model_selection import train_test_split\n",
    "from sklearn.ensemble import RandomForestClassifier\n",
    "from sklearn.metrics import accuracy_score, classification_report, confusion_matrix\n",
    "\n",
    "# Step 1: Data Preprocessing\n",
    "# Load the dataset\n",
    "data = pd.read_csv(r\"E:\\SEM-7\\SEM-8 INTERN\\heart dataset.csv\")\n",
    "\n",
    "\n",
    "# Clean the dataset (if necessary)\n",
    "data.drop_duplicates(inplace=True)\n",
    "\n",
    "# Handle missing values (if necessary)\n",
    "data.dropna(inplace=True)\n",
    "\n",
    "# Encode categorical variables (if necessary)\n",
    "data = pd.get_dummies(data, columns=['Sex', 'ChestPainType', 'FastingBS', 'RestingECG', 'ExerciseAngina', 'ST_Slope'])\n",
    "\n",
    "# Split the dataset into features and target variable\n",
    "X = data.drop(\"HeartDisease\", axis=1)  # Features\n",
    "y = data[\"HeartDisease\"]  # Target variable\n",
    "\n",
    "# Step 2: Data Splitting\n",
    "# Split the dataset into training and testing sets\n",
    "X_train, X_test, y_train, y_test = train_test_split(X, y, test_size=0.2, random_state=42)\n",
    "\n",
    "# Step 3: Model Selection\n",
    "# Choose a classification algorithm\n",
    "model = RandomForestClassifier(random_state=42)\n",
    "\n",
    "# Step 4: Model Training\n",
    "# Train the model on the training set\n",
    "model.fit(X_train, y_train)\n",
    "\n",
    "# Step 5: Model Evaluation\n",
    "# Evaluate the model on the testing set\n",
    "y_pred = model.predict(X_test)\n",
    "\n",
    "# Step 6: Evaluation Metrics\n",
    "# Calculate evaluation metrics\n",
    "accuracy = accuracy_score(y_test, y_pred)\n",
    "classification_rep = classification_report(y_test, y_pred)\n",
    "conf_matrix = confusion_matrix(y_test, y_pred)\n",
    "\n",
    "# Step 7: Print Evaluation Metrics\n",
    "print(\"Accuracy:\", accuracy)\n",
    "print(\"Classification Report:\")\n",
    "print(classification_rep)\n",
    "print(\"Confusion Matrix:\")\n",
    "print(conf_matrix)"
   ]
  },
  {
   "cell_type": "code",
   "execution_count": null,
   "id": "78c52046",
   "metadata": {},
   "outputs": [],
   "source": []
  },
  {
   "cell_type": "code",
   "execution_count": null,
   "id": "88f64755",
   "metadata": {},
   "outputs": [],
   "source": []
  }
 ],
 "metadata": {
  "kernelspec": {
   "display_name": "Python 3 (ipykernel)",
   "language": "python",
   "name": "python3"
  },
  "language_info": {
   "codemirror_mode": {
    "name": "ipython",
    "version": 3
   },
   "file_extension": ".py",
   "mimetype": "text/x-python",
   "name": "python",
   "nbconvert_exporter": "python",
   "pygments_lexer": "ipython3",
   "version": "3.10.9"
  }
 },
 "nbformat": 4,
 "nbformat_minor": 5
}
